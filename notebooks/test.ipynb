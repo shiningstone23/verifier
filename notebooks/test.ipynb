{
 "cells": [
  {
   "cell_type": "code",
   "execution_count": 2,
   "metadata": {},
   "outputs": [],
   "source": [
    "import os; os.chdir(\"../\")\n",
    "import sys; sys.path.append(\"scripts\")"
   ]
  },
  {
   "cell_type": "code",
   "execution_count": 3,
   "metadata": {},
   "outputs": [],
   "source": [
    "import re\n",
    "import torch\n",
    "import yaml\n",
    "from utils import set_seed, init_tokenizer\n",
    "from utils import HF_NAME_MAP\n",
    "from utils import RegexStopAndExtractCriteria\n",
    "from transformers import (\n",
    "    BitsAndBytesConfig,\n",
    "    AutoModelForCausalLM, AutoTokenizer,\n",
    "    GenerationConfig, \n",
    "    StoppingCriteriaList, LogitsProcessorList,\n",
    "    MaxTimeCriteria, LogitsProcessor, StoppingCriteria\n",
    ")\n",
    "\n",
    "config_path = 'configs/basic.yml'\n",
    "with open(config_path, 'r') as f:\n",
    "    config = yaml.load(f, Loader=yaml.FullLoader)\n",
    "set_seed(config['seed'])\n",
    "\n"
   ]
  },
  {
   "cell_type": "code",
   "execution_count": 4,
   "metadata": {},
   "outputs": [],
   "source": [
    "from datasets import load_from_disk, concatenate_datasets, load_dataset, Dataset"
   ]
  },
  {
   "cell_type": "code",
   "execution_count": 1,
   "metadata": {},
   "outputs": [],
   "source": [
    "# dset = load_from_disk(\"/home/chanwoo/chanwoo/repo/verifier/data/sft_llama-8b_gsm8k_correct_100_0_\")\n",
    "# new_q = tokenizer.batch_decode(dset['question'], skip_special_tokens=True)\n",
    "# new_q2 = [q.split(\"Question: \")[1] for q in new_q]\n",
    "# new_dset = {\n",
    "#     \"question\": new_q2,\n",
    "#     \"answer\": dset['answer']\n",
    "# }\n",
    "# new_dset_obj = Dataset.from_dict(new_dset)\n",
    "# new_dset_obj.save_to_disk(\"data/sft_llama-8b_gsm8k_correct_100_0\")"
   ]
  },
  {
   "cell_type": "code",
   "execution_count": null,
   "metadata": {},
   "outputs": [],
   "source": [
    "prompt = \"\"\"\n",
    "Answer the question below. The final answer should be number and write the final answer after the \\n####. For example, \\n#### 000\n",
    "Question : Janet’s ducks lay 16 eggs per day. She eats three for breakfast every morning and bakes muffins for her friends every day with four. She sells the remainder at the farmers' market daily for $2 per fresh duck egg. How much in dollars does she make every day at the farmers' market?\n",
    "\"\"\""
   ]
  },
  {
   "cell_type": "code",
   "execution_count": null,
   "metadata": {},
   "outputs": [],
   "source": [
    "prompt = \"\"\"\n",
    "Validate the solution for the question below.\n",
    "Question : Janet’s ducks lay 16 eggs per day. She eats three for breakfast every morning and bakes muffins for her friends every day with four. She sells the remainder at the farmers' market daily for $2 per fresh duck egg. How much in dollars does she make every day at the farmers' market?\n",
    "Answer: She eats 3 x 16 = <<3*16=48>>48 fresh duck eggs per day.\\nShe sells 48 x 2 = <<48*2=96>>96 fresh duck eggs at the farmers' market.\\nShe makes 96 x $2 = $<<96*2=192>>192 every day at the farmers' market.\\n#### 192\n",
    "\"\"\""
   ]
  },
  {
   "cell_type": "code",
   "execution_count": 5,
   "metadata": {},
   "outputs": [],
   "source": [
    "os.environ[\"CUDA_VISIBLE_DEVICES\"] = \"1\""
   ]
  },
  {
   "cell_type": "code",
   "execution_count": null,
   "metadata": {},
   "outputs": [],
   "source": [
    "# import subprocess\n",
    "# from transformers import BitsAndBytesConfig, QuantoConfig\n",
    "# test_qt_configs = [\n",
    "#     BitsAndBytesConfig(load_in_4bit=True),\n",
    "#     BitsAndBytesConfig(load_in_8bit=True),\n",
    "#     QuantoConfig(weights=\"int8\"),\n",
    "# ]\n",
    "\n",
    "# def get_gpu_memory_by_pid(pid):\n",
    "#     try:\n",
    "#         # nvidia-smi로 프로세스 정보 조회\n",
    "#         result = subprocess.run(\n",
    "#             [\"nvidia-smi\", \"--query-compute-apps=pid,used_memory\", \"--format=csv,noheader,nounits\"],\n",
    "#             stdout=subprocess.PIPE, text=True\n",
    "#         )\n",
    "\n",
    "#         # 결과 파싱\n",
    "#         processes = result.stdout.strip().split(\"\\n\")\n",
    "#         for process in processes:\n",
    "#             process_info = process.split(\", \")\n",
    "#             process_pid = int(process_info[0])\n",
    "#             used_memory = int(process_info[1])  # GPU 메모리 사용량 (MB 단위)\n",
    "\n",
    "#             if process_pid == pid:\n",
    "#                 return used_memory\n",
    "#         return None  # 해당 PID가 GPU에서 실행 중이지 않음\n",
    "\n",
    "#     except FileNotFoundError:\n",
    "#         print(\"nvidia-smi 명령어를 찾을 수 없습니다. NVIDIA 드라이버가 설치되어 있는지 확인하세요.\")\n",
    "#         return None\n",
    "#     except Exception as e:\n",
    "#         print(f\"에러 발생: {e}\")\n",
    "#         return None\n",
    "\n",
    "# # 예시: 특정 PID의 GPU 메모리 사용량 확인\n",
    "# pid = 5765  # 확인하려는 PID\n",
    "# gpu_memory = get_gpu_memory_by_pid(pid)\n",
    "# if gpu_memory is not None:\n",
    "#     print(f\"PID {pid}의 GPU 메모리 사용량: {gpu_memory} MB\")\n",
    "# else:\n",
    "#     print(f\"PID {pid}는 GPU에서 실행 중이지 않습니다.\")\n",
    "\n",
    "# model_name = \"sft_llama-1b\"\n",
    "# task_name = \"gsm8k\"\n",
    "# model_path = f\"models/{model_name}_{task_name}\"\n",
    "# model_type, pt_name = model_name.split(\"_\")\n",
    "# hf_name = HF_NAME_MAP[pt_name]\n",
    "\n",
    "# pid = os.getpid()\n",
    "\n",
    "# for qt in test_qt_configs:\n",
    "#     model = AutoModelForCausalLM.from_pretrained(\n",
    "#         model_path,\n",
    "#         quantization_config=qt,\n",
    "#         **config['model'][pt_name]\n",
    "#     )\n",
    "#     gpu_memory = get_gpu_memory_by_pid(pid)\n",
    "#     print(f\"QT: {qt}, GPU Memory: {gpu_memory} MB\")\n",
    "#     model.cpu()\n",
    "#     del model\n",
    "\n",
    "#     torch.cuda.empty_cache()"
   ]
  },
  {
   "cell_type": "code",
   "execution_count": 8,
   "metadata": {},
   "outputs": [],
   "source": [
    "model_name = \"sft_llama-1b\"\n",
    "task_name = \"gsm8k\"\n",
    "model_path = f\"models/{model_name}_{task_name}\"\n",
    "\n",
    "model_type, pt_name = model_name.split(\"_\")\n",
    "hf_name = HF_NAME_MAP[pt_name]\n",
    "tokenizer = AutoTokenizer.from_pretrained(hf_name)\n",
    "init_tokenizer(tokenizer)\n",
    "model = AutoModelForCausalLM.from_pretrained(\n",
    "    # model_path,\n",
    "    \"models/sft_llama-1b_gsm8k_star_0\",\n",
    "    # quantization_config=BitsAndBytesConfig(load_in_4bit=True),\n",
    "    **config['model'][pt_name]\n",
    ")"
   ]
  },
  {
   "cell_type": "code",
   "execution_count": null,
   "metadata": {},
   "outputs": [],
   "source": [
    "instruction = \"Please calculate the solution step-by-step and conclude the answer with \\n#### followed by the result.\\n\"\n",
    "query = instruction + \"'A fruit vendor bought 50 watermelons for $80. He sold all of them at a profit of 25%. How much was each watermelon sold? Answer: \""
   ]
  },
  {
   "cell_type": "code",
   "execution_count": null,
   "metadata": {},
   "outputs": [],
   "source": [
    "input_token = tokenizer(query, return_tensors='pt')"
   ]
  },
  {
   "cell_type": "code",
   "execution_count": null,
   "metadata": {},
   "outputs": [],
   "source": [
    "class CustomLogitsProcessor(LogitsProcessor):\n",
    "    def __init__(self, pattern, tokenizer):\n",
    "        \"\"\"\n",
    "        Args:\n",
    "            pattern (str): 탐지할 정규식 패턴.\n",
    "            tokenizer (Tokenizer): 토크나이저 객체.\n",
    "        \"\"\"\n",
    "        self.pattern = pattern\n",
    "        self.tokenizer = tokenizer\n",
    "\n",
    "    def __call__(self, input_ids, scores):\n",
    "        \"\"\"\n",
    "        Args:\n",
    "            input_ids (torch.Tensor): (n_samples, seq_len) 형태의 입력 토큰 ID.\n",
    "            scores (torch.Tensor): (n_samples, n_vocab) 형태의 로그 확률 점수.\n",
    "\n",
    "        Returns:\n",
    "            torch.Tensor: 수정된 로그 확률 점수.\n",
    "        \"\"\"\n",
    "        pad_token = self.tokenizer.pad_token_id\n",
    "\n",
    "        for i in range(input_ids.size(0)):\n",
    "            # 전체 시퀀스를 디코딩\n",
    "            decoded = self.tokenizer.decode(input_ids[i])\n",
    "            # 패턴이 디코딩된 텍스트에서 발견되면 처리\n",
    "            if re.search(self.pattern, decoded):\n",
    "                scores[i, :] = -1e9  # 모든 토큰 비활성화\n",
    "                scores[i, pad_token] = 0  # pad_token만 활성화\n",
    "\n",
    "        return scores"
   ]
  },
  {
   "cell_type": "code",
   "execution_count": null,
   "metadata": {},
   "outputs": [
    {
     "name": "stderr",
     "output_type": "stream",
     "text": [
      "The attention mask and the pad token id were not set. As a consequence, you may observe unexpected behavior. Please pass your input's `attention_mask` to obtain reliable results.\n",
      "Setting `pad_token_id` to `eos_token_id`:None for open-end generation.\n"
     ]
    }
   ],
   "source": [
    "res = model.generate(\n",
    "    inputs=input_token.input_ids.to(model.device),\n",
    "    generation_config=GenerationConfig(\n",
    "        max_length=256,\n",
    "        do_sample=True,\n",
    "        temperature=0.7,\n",
    "        num_beams=1,\n",
    "        num_return_sequences=16\n",
    "    ),\n",
    "    logits_processor=LogitsProcessorList([\n",
    "        CustomLogitsProcessor(pattern=r\"####\\s*-?\\d+(\\D)\", tokenizer=tokenizer)\n",
    "    ])\n",
    ")"
   ]
  },
  {
   "cell_type": "code",
   "execution_count": null,
   "metadata": {},
   "outputs": [
    {
     "name": "stdout",
     "output_type": "stream",
     "text": [
      "torch.Size([16, 205])\n",
      "0: 80 x 25/100 = <<80*25/100=20>>20% of the watermelons were sold.\n",
      "So, 80 - 20 = <<80-20=60>>60% of the watermelons were not sold.\n",
      "Therefore, 60 / 100 x 50 = <<60/100*50=30>>30 watermelons were sold.\n",
      "Thus, each watermelon sold was $80 x 30 / 60 = $<<80*30/60=20>>20.\n",
      "#### 20\n",
      "\n",
      "1: 80/100 * 50 = $<<80/100*50=40>>40\n",
      "Since 25% is 25/100 * 100% = 25%, this means that 100 - 25 = 75% of the watermelons were sold.\n",
      "Thus, each of the watermelons was sold for 40 / 75 = $<<40/75=0.4>>0.4\n",
      "#### 0.\n",
      "2: 25% of the price of 1 watermelon is $0.25 * 80 = $<<0.25*80=20>>20.\n",
      "So the total profit was $80 - $20 = $<<80-20=60>>60.\n",
      "Therefore, each watermelon was sold at $80 / 60 = $<<80/60=1.333>>1.333.\n",
      "#### 1.\n",
      "3: 80 / 25 = $<<80/25=32>>32 per watermelon\n",
      "The fruit vendor sold all of the watermelons at $32 each, which is 50 x $32 = $<<50*32=1600>>1600\n",
      "#### 1600\n",
      "\n",
      "4: 80/25 = $<<80/25=3>>3 per watermelon.\n",
      "50 * $3 = $<<50*3=150>>150\n",
      "#### 150\n",
      "\n",
      "5: 80-80=<<80-80=0>>0\n",
      "Therefore, each watermelon was sold at $80/50=$<<80/50=160>>160.\n",
      "#### 160\n",
      "\n",
      "6: 80/25 = $<<80/25=3>>3 per watermelon\n",
      "40 watermelons are sold at $3 per watermelon, for a total of 40*$3 = $<<40*3=120>>120\n",
      "50 watermelons are sold at $80 per watermelon, for a total of 50*$80 = $<<50*80=4000>>4000\n",
      "40 watermelons are sold at $3 per watermelon, for a total of 40*$3 = $<<40*3=120>>120\n",
      "So in total, the fruits were sold for $120+$4000 = $<<120+4000=4210>>4210\n",
      "#### 4210\n",
      "\n",
      "7: 80/100 * 50 = $<<80/100*50=40>>40\n",
      "40/100 * 50 = $<<40/100*50=20>>20\n",
      "20/100 * 50 = $<<20/100*50=10>>10\n",
      "The price of each watermelon was $50 - $10 = $<<50-10=40>>40\n",
      "#### 40\n",
      "\n",
      "8: 80/25 = $<<80/25=3>>3 per watermelon\n",
      "Each watermelon was sold for $3.\n",
      "#### 40\n",
      "\n",
      "9: 80/25 = <<80/25=3>>3\n",
      "The total price of the watermelons is $80. The profit is 3/5 of the total price, or a total of $80 * 0.3 = $<<80*0.3=24>>24\n",
      "Every watermelon was sold at $24, and the total number of watermelons sold is 50, so we can calculate the amount each watermelon was sold at: $24/50 = $<<24/50=0.48>>0.48 per watermelon\n",
      "#### 48\n",
      "\n",
      "10: 80-25% = <<80-25=55>>55% was the amount sold.\n",
      "50/55*80 = <<50/55*80=64>>64 was the amount sold.\n",
      "Each watermelon was sold for 80/64 = <<80/64=1>>$1.\n",
      "#### 1\n",
      "\n",
      "11: 50 x 80 / 25 = <<50*80/25=160>>160 dollar\n",
      "160 - 80 = <<160-80=80>>80 dollar\n",
      "He sold each watermelon for $<<80=80>>80\n",
      "#### 80\n",
      "\n",
      "12: 50 x 25/100 = <<50*25/100=12>>12 fruits were sold for $80.\n",
      "The price of each watermelon is $80 + $12 = $<<80+12=92>>92.\n",
      "#### 92\n",
      "\n",
      "13: 80/25=<<80/25=4>>4\n",
      "The price of each watermelon was 80 - 25=$<<80-25=55>>55\n",
      "#### 55\n",
      "\n",
      "14: 80/100 * 50 = $<<80/100*50=40>>40\n",
      "The profit on each watermelon was 40 - 25 = <<40-25=15>>15\n",
      "Each watermelon sold for $40/50 = $<<40/50=8>>8\n",
      "#### 8\n",
      "\n",
      "15: 80/0.25=<<80/0.25=320>>320\n",
      "Each watermelon was sold for $320/50=<<320/50=6>>6\n",
      "#### 6\n",
      "\n"
     ]
    }
   ],
   "source": [
    "print(res.shape)\n",
    "\n",
    "for i in range(res.size(0)):\n",
    "    text = tokenizer.decode(res[i], skip_special_tokens=True)\n",
    "    answer_part = text.split(\"Answer: \")[-1]\n",
    "    print(f\"{i}: {answer_part}\")"
   ]
  },
  {
   "cell_type": "code",
   "execution_count": null,
   "metadata": {},
   "outputs": [],
   "source": []
  },
  {
   "cell_type": "code",
   "execution_count": null,
   "metadata": {},
   "outputs": [
    {
     "ename": "NameError",
     "evalue": "name 'STOP' is not defined",
     "output_type": "error",
     "traceback": [
      "\u001b[0;31m---------------------------------------------------------------------------\u001b[0m",
      "\u001b[0;31mNameError\u001b[0m                                 Traceback (most recent call last)",
      "Cell \u001b[0;32mIn[6], line 1\u001b[0m\n\u001b[0;32m----> 1\u001b[0m \u001b[43mSTOP\u001b[49m\n",
      "\u001b[0;31mNameError\u001b[0m: name 'STOP' is not defined"
     ]
    }
   ],
   "source": [
    "STOP"
   ]
  },
  {
   "cell_type": "code",
   "execution_count": null,
   "metadata": {},
   "outputs": [
    {
     "name": "stdout",
     "output_type": "stream",
     "text": [
      "Log-Likelihood of the label: -23.194427490234375\n"
     ]
    }
   ],
   "source": [
    "prompt = \"The capital of France is\"\n",
    "label = \" Paris\"  # Likelihood를 계산하고 싶은 레이블\n",
    "\n",
    "# 전체 입력 텍스트\n",
    "input_text = prompt + label\n",
    "input_ids = tokenizer([input_text], return_tensors=\"pt\").input_ids\n",
    "label_ids = tokenizer([label], return_tensors=\"pt\").input_ids\n",
    "\n",
    "with torch.no_grad():\n",
    "    outputs = model(input_ids)\n",
    "    logits = outputs.logits  # (batch_size, sequence_length, vocab_size)\n",
    "\n",
    "# label 토큰의 likelihood 추출\n",
    "# Prompt 길이 이후의 토큰만 고려\n",
    "label_start_idx = len(tokenizer(prompt, return_tensors=\"pt\").input_ids[0])\n",
    "logits_for_labels = logits[0, label_start_idx - 1 : -1, :]  # (label_length, vocab_size)\n",
    "\n",
    "# Label의 토큰 ID\n",
    "label_token_ids = label_ids[0]\n",
    "\n",
    "# Log-Softmax 계산\n",
    "log_probs = torch.log_softmax(logits_for_labels, dim=-1)\n",
    "\n",
    "# 각 레이블 토큰의 로그 확률 합산\n",
    "label_likelihood = log_probs[range(len(label_token_ids)-1), label_token_ids].sum()\n",
    "print(f\"Log-Likelihood of the label: {label_likelihood.item()}\")\n",
    "\n"
   ]
  },
  {
   "cell_type": "code",
   "execution_count": null,
   "metadata": {},
   "outputs": [
    {
     "name": "stdout",
     "output_type": "stream",
     "text": [
      "Log-Likelihood of the label: -31.83171844482422\n"
     ]
    }
   ],
   "source": [
    "prompt = \"The capital of France is\"\n",
    "label = \" Madrid\"  # Likelihood를 계산하고 싶은 레이블\n",
    "\n",
    "# 전체 입력 텍스트\n",
    "input_text = prompt + label\n",
    "input_ids = tokenizer([input_text], return_tensors=\"pt\").input_ids\n",
    "label_ids = tokenizer([label], return_tensors=\"pt\").input_ids\n",
    "\n",
    "with torch.no_grad():\n",
    "    outputs = model(input_ids)\n",
    "    logits = outputs.logits  # (batch_size, sequence_length, vocab_size)\n",
    "\n",
    "# label 토큰의 likelihood 추출\n",
    "# Prompt 길이 이후의 토큰만 고려\n",
    "label_start_idx = len(tokenizer(prompt, return_tensors=\"pt\").input_ids[0])\n",
    "logits_for_labels = logits[0, label_start_idx - 1 : -1, :]  # (label_length, vocab_size)\n",
    "\n",
    "# Label의 토큰 ID\n",
    "label_token_ids = label_ids[0]\n",
    "\n",
    "# Log-Softmax 계산\n",
    "log_probs = torch.log_softmax(logits_for_labels, dim=-1)\n",
    "\n",
    "# 각 레이블 토큰의 로그 확률 합산\n",
    "label_likelihood = log_probs[range(len(label_token_ids)-1), label_token_ids].sum()\n",
    "print(f\"Log-Likelihood of the label: {label_likelihood.item()}\")\n",
    "\n"
   ]
  },
  {
   "cell_type": "code",
   "execution_count": null,
   "metadata": {},
   "outputs": [
    {
     "data": {
      "text/plain": [
       "(tensor([[128000,    791,   6864,    315,   9822,    374,  25048]]),\n",
       " tensor([[128000,  25048]]))"
      ]
     },
     "execution_count": 21,
     "metadata": {},
     "output_type": "execute_result"
    }
   ],
   "source": [
    "input_ids, label_ids"
   ]
  },
  {
   "cell_type": "code",
   "execution_count": null,
   "metadata": {},
   "outputs": [
    {
     "data": {
      "text/plain": [
       "torch.Size([1, 7, 128256])"
      ]
     },
     "execution_count": 19,
     "metadata": {},
     "output_type": "execute_result"
    }
   ],
   "source": [
    "logits.shape"
   ]
  },
  {
   "cell_type": "code",
   "execution_count": null,
   "metadata": {},
   "outputs": [
    {
     "data": {
      "text/plain": [
       "torch.Size([1, 128256])"
      ]
     },
     "execution_count": 15,
     "metadata": {},
     "output_type": "execute_result"
    }
   ],
   "source": [
    "logits_for_labels.shape"
   ]
  },
  {
   "cell_type": "code",
   "execution_count": null,
   "metadata": {},
   "outputs": [
    {
     "data": {
      "text/plain": [
       "torch.Size([1, 128256])"
      ]
     },
     "execution_count": 12,
     "metadata": {},
     "output_type": "execute_result"
    }
   ],
   "source": [
    "log_probs.shape"
   ]
  },
  {
   "cell_type": "code",
   "execution_count": null,
   "metadata": {},
   "outputs": [
    {
     "data": {
      "text/plain": [
       "2"
      ]
     },
     "execution_count": 13,
     "metadata": {},
     "output_type": "execute_result"
    }
   ],
   "source": [
    "len(label_token_ids)"
   ]
  },
  {
   "cell_type": "code",
   "execution_count": null,
   "metadata": {},
   "outputs": [
    {
     "data": {
      "text/plain": [
       "tensor([128000,  12366])"
      ]
     },
     "execution_count": 11,
     "metadata": {},
     "output_type": "execute_result"
    }
   ],
   "source": [
    "label_token_ids"
   ]
  },
  {
   "cell_type": "code",
   "execution_count": null,
   "metadata": {},
   "outputs": [],
   "source": [
    "STOP"
   ]
  },
  {
   "cell_type": "code",
   "execution_count": null,
   "metadata": {},
   "outputs": [],
   "source": [
    "activation = {}\n",
    "\n",
    "def get_activation(layer_nm):\n",
    "    def hook(module, input, output):\n",
    "        if layer_nm == \"self_attn\":\n",
    "            output = output[0]\n",
    "        activation[layer_nm] = output.detach().cpu()\n",
    "    return hook\n",
    "self_attn = model.model.layers[-1].self_attn\n",
    "mlp = model.model.layers[-1].mlp\n",
    "handler1 = self_attn.register_forward_hook(get_activation('self_attn'))\n",
    "handler2 = mlp.gate_proj.register_forward_hook(get_activation('gate_proj'))"
   ]
  },
  {
   "cell_type": "code",
   "execution_count": null,
   "metadata": {},
   "outputs": [
    {
     "name": "stderr",
     "output_type": "stream",
     "text": [
      "Starting from v4.46, the `logits` model output will have the same type as the model (except at train time, where it will always be FP32)\n"
     ]
    }
   ],
   "source": [
    "text = \"The quick brown fox jumps over the lazy dog\"\n",
    "input_ids = tokenizer.encode(text, return_tensors=\"pt\")\n",
    "output = model(input_ids)\n",
    "handler1.remove()\n",
    "handler2.remove()"
   ]
  },
  {
   "cell_type": "code",
   "execution_count": null,
   "metadata": {},
   "outputs": [
    {
     "data": {
      "text/plain": [
       "(torch.Size([1, 10]), torch.Size([1, 10, 2048]), torch.Size([1, 10, 8192]))"
      ]
     },
     "execution_count": 6,
     "metadata": {},
     "output_type": "execute_result"
    }
   ],
   "source": [
    "input_ids.shape, activation['self_attn'].shape, activation['gate_proj'].shape"
   ]
  },
  {
   "cell_type": "code",
   "execution_count": null,
   "metadata": {},
   "outputs": [],
   "source": [
    "neurons = mlp.act_fn(activation['gate_proj'][0, -1])"
   ]
  },
  {
   "cell_type": "code",
   "execution_count": null,
   "metadata": {},
   "outputs": [
    {
     "data": {
      "text/plain": [
       "(tensor(6.7227, dtype=torch.float16),\n",
       " tensor(-0.2786, dtype=torch.float16),\n",
       " tensor(0.0792, dtype=torch.float16),\n",
       " tensor(0.3706, dtype=torch.float16))"
      ]
     },
     "execution_count": 8,
     "metadata": {},
     "output_type": "execute_result"
    }
   ],
   "source": [
    "neurons.max(), neurons.min(), neurons.mean(), neurons.std()"
   ]
  },
  {
   "cell_type": "code",
   "execution_count": null,
   "metadata": {},
   "outputs": [],
   "source": [
    "import matplotlib.pyplot as plt"
   ]
  },
  {
   "cell_type": "code",
   "execution_count": null,
   "metadata": {},
   "outputs": [
    {
     "data": {
      "image/png": "[encoded data removed]",
      "text/plain": [
       "<Figure size 640x480 with 1 Axes>"
      ]
     },
     "metadata": {},
     "output_type": "display_data"
    }
   ],
   "source": [
    "plt.hist(neurons.numpy(), bins=50)\n",
    "plt.show()"
   ]
  },
  {
   "cell_type": "code",
   "execution_count": null,
   "metadata": {},
   "outputs": [
    {
     "data": {
      "text/plain": [
       "tensor([-0.0828,  0.3142,  0.0468,  ...,  0.1896,  0.0750,  0.0922],\n",
       "       dtype=torch.float16)"
      ]
     },
     "execution_count": 13,
     "metadata": {},
     "output_type": "execute_result"
    }
   ],
   "source": [
    "neurons"
   ]
  },
  {
   "cell_type": "code",
   "execution_count": null,
   "metadata": {},
   "outputs": [
    {
     "data": {
      "text/plain": [
       "(tensor([  41,  100,  287,  396,  402,  576,  640,  840,  870,  936, 1070, 1071,\n",
       "         1143, 1210, 1327, 1346, 1401, 1546, 1579, 1619, 1787, 1788, 1879, 1949,\n",
       "         2027, 2059, 2072, 2260, 2307, 2545, 2548, 2627, 2636, 2773, 2785, 2859,\n",
       "         2999, 3106, 3307, 3316, 3449, 3497, 3675, 3879, 4407, 4549, 4587, 4758,\n",
       "         4775, 4807, 4811, 4817, 4870, 4909, 5394, 5450, 5621, 5782, 5792, 5881,\n",
       "         5924, 6036, 6278, 6283, 6364, 6517, 6747, 6805, 6813, 6853, 6888, 7006,\n",
       "         7358, 7375, 7598, 7670, 7728, 7811, 7874, 7996, 8092, 8120]),)"
      ]
     },
     "execution_count": 26,
     "metadata": {},
     "output_type": "execute_result"
    }
   ],
   "source": [
    "thres = neurons.float().quantile(0.99)\n",
    "torch.where(neurons > thres)"
   ]
  },
  {
   "cell_type": "code",
   "execution_count": null,
   "metadata": {},
   "outputs": [
    {
     "data": {
      "text/plain": [
       "tensor(1.1087)"
      ]
     },
     "execution_count": 24,
     "metadata": {},
     "output_type": "execute_result"
    }
   ],
   "source": [
    "thres"
   ]
  },
  {
   "cell_type": "code",
   "execution_count": null,
   "metadata": {},
   "outputs": [],
   "source": []
  },
  {
   "cell_type": "code",
   "execution_count": null,
   "metadata": {},
   "outputs": [],
   "source": []
  },
  {
   "cell_type": "code",
   "execution_count": null,
   "metadata": {},
   "outputs": [],
   "source": []
  },
  {
   "cell_type": "code",
   "execution_count": null,
   "metadata": {},
   "outputs": [],
   "source": []
  }
 ],
 "metadata": {
  "kernelspec": {
   "display_name": "base",
   "language": "python",
   "name": "python3"
  },
  "language_info": {
   "codemirror_mode": {
    "name": "ipython",
    "version": 3
   },
   "file_extension": ".py",
   "mimetype": "text/x-python",
   "name": "python",
   "nbconvert_exporter": "python",
   "pygments_lexer": "ipython3",
   "version": "3.12.6"
  }
 },
 "nbformat": 4,
 "nbformat_minor": 2
}
