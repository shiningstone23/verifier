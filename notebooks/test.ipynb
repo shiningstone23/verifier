{
 "cells": [
  {
   "cell_type": "code",
   "execution_count": 1,
   "metadata": {},
   "outputs": [],
   "source": [
    "import os; os.chdir(\"../\")\n",
    "import sys; sys.path.append(\"scripts\")"
   ]
  },
  {
   "cell_type": "code",
   "execution_count": 2,
   "metadata": {},
   "outputs": [],
   "source": [
    "import torch\n",
    "import yaml\n",
    "from utils import set_seed, init_tokenizer\n",
    "from utils import HF_NAME_MAP\n",
    "from transformers import (\n",
    "    BitsAndBytesConfig,\n",
    "    AutoModelForCausalLM, AutoTokenizer,\n",
    "    GenerationConfig, \n",
    "    StoppingCriteriaList,\n",
    ")\n",
    "\n",
    "config_path = 'configs/basic.yml'\n",
    "with open(config_path, 'r') as f:\n",
    "    config = yaml.load(f, Loader=yaml.FullLoader)\n",
    "set_seed(config['seed'])"
   ]
  },
  {
   "cell_type": "code",
   "execution_count": 3,
   "metadata": {},
   "outputs": [],
   "source": [
    "os.environ[\"CUDA_VISIBLE_DEVICES\"] = \"1\""
   ]
  },
  {
   "cell_type": "code",
   "execution_count": null,
   "metadata": {},
   "outputs": [],
   "source": [
    "STOP"
   ]
  },
  {
   "cell_type": "code",
   "execution_count": null,
   "metadata": {},
   "outputs": [],
   "source": [
    "\"\"\"\n",
    "Please calculate the solution step-by-step and conclude the answer with '\\n#### ' followed by the result.\n",
    "There are some oranges in a basket. Ana spends 3 minutes peeling an orange and Jane spends 4 minutes doing the same. If Ana and Jane start picking oranges from this basket to peel at the same time, how many more oranges will Ana have peeled than Jane after an hour?\n",
    "\"\"\""
   ]
  },
  {
   "cell_type": "code",
   "execution_count": null,
   "metadata": {},
   "outputs": [
    {
     "name": "stdout",
     "output_type": "stream",
     "text": [
      "PID 5765는 GPU에서 실행 중이지 않습니다.\n"
     ]
    }
   ],
   "source": [
    "# import subprocess\n",
    "# from transformers import BitsAndBytesConfig, QuantoConfig\n",
    "# test_qt_configs = [\n",
    "#     BitsAndBytesConfig(load_in_4bit=True),\n",
    "#     BitsAndBytesConfig(load_in_8bit=True),\n",
    "#     QuantoConfig(weights=\"int8\"),\n",
    "# ]\n",
    "\n",
    "# def get_gpu_memory_by_pid(pid):\n",
    "#     try:\n",
    "#         # nvidia-smi로 프로세스 정보 조회\n",
    "#         result = subprocess.run(\n",
    "#             [\"nvidia-smi\", \"--query-compute-apps=pid,used_memory\", \"--format=csv,noheader,nounits\"],\n",
    "#             stdout=subprocess.PIPE, text=True\n",
    "#         )\n",
    "\n",
    "#         # 결과 파싱\n",
    "#         processes = result.stdout.strip().split(\"\\n\")\n",
    "#         for process in processes:\n",
    "#             process_info = process.split(\", \")\n",
    "#             process_pid = int(process_info[0])\n",
    "#             used_memory = int(process_info[1])  # GPU 메모리 사용량 (MB 단위)\n",
    "\n",
    "#             if process_pid == pid:\n",
    "#                 return used_memory\n",
    "#         return None  # 해당 PID가 GPU에서 실행 중이지 않음\n",
    "\n",
    "#     except FileNotFoundError:\n",
    "#         print(\"nvidia-smi 명령어를 찾을 수 없습니다. NVIDIA 드라이버가 설치되어 있는지 확인하세요.\")\n",
    "#         return None\n",
    "#     except Exception as e:\n",
    "#         print(f\"에러 발생: {e}\")\n",
    "#         return None\n",
    "\n",
    "# # 예시: 특정 PID의 GPU 메모리 사용량 확인\n",
    "# pid = 5765  # 확인하려는 PID\n",
    "# gpu_memory = get_gpu_memory_by_pid(pid)\n",
    "# if gpu_memory is not None:\n",
    "#     print(f\"PID {pid}의 GPU 메모리 사용량: {gpu_memory} MB\")\n",
    "# else:\n",
    "#     print(f\"PID {pid}는 GPU에서 실행 중이지 않습니다.\")\n",
    "\n",
    "# model_name = \"sft_llama-1b\"\n",
    "# task_name = \"gsm8k\"\n",
    "# model_path = f\"models/{model_name}_{task_name}\"\n",
    "# model_type, pt_name = model_name.split(\"_\")\n",
    "# hf_name = HF_NAME_MAP[pt_name]\n",
    "\n",
    "# pid = os.getpid()\n",
    "\n",
    "# for qt in test_qt_configs:\n",
    "#     model = AutoModelForCausalLM.from_pretrained(\n",
    "#         model_path,\n",
    "#         quantization_config=qt,\n",
    "#         **config['model'][pt_name]\n",
    "#     )\n",
    "#     gpu_memory = get_gpu_memory_by_pid(pid)\n",
    "#     print(f\"QT: {qt}, GPU Memory: {gpu_memory} MB\")\n",
    "#     model.cpu()\n",
    "#     del model\n",
    "\n",
    "#     torch.cuda.empty_cache()"
   ]
  },
  {
   "cell_type": "code",
   "execution_count": null,
   "metadata": {},
   "outputs": [
    {
     "data": {
      "text/plain": [
       "{'load_in_8bit': True}"
      ]
     },
     "execution_count": 6,
     "metadata": {},
     "output_type": "execute_result"
    }
   ],
   "source": [
    "model_name = \"sft_llama-1b\"\n",
    "task_name = \"gsm8k\"\n",
    "model_path = f\"models/{model_name}_{task_name}\"\n",
    "model_type, pt_name = model_name.split(\"_\")\n",
    "hf_name = HF_NAME_MAP[pt_name]\n",
    "tokenizer = AutoTokenizer.from_pretrained(hf_name)\n",
    "init_tokenizer(tokenizer)\n",
    "model = AutoModelForCausalLM.from_pretrained(\n",
    "    model_path,\n",
    "    quantization_config=BitsAndBytesConfig(**config['qt']),\n",
    "    **config['model'][pt_name]\n",
    ")"
   ]
  },
  {
   "cell_type": "code",
   "execution_count": null,
   "metadata": {},
   "outputs": [],
   "source": [
    "activation = {}\n",
    "\n",
    "def get_activation(layer_nm):\n",
    "    def hook(module, input, output):\n",
    "        if layer_nm == \"self_attn\":\n",
    "            output = output[0]\n",
    "        activation[layer_nm] = output.detach().cpu()\n",
    "    return hook\n",
    "self_attn = model.model.layers[-1].self_attn\n",
    "mlp = model.model.layers[-1].mlp\n",
    "handler1 = self_attn.register_forward_hook(get_activation('self_attn'))\n",
    "handler2 = mlp.gate_proj.register_forward_hook(get_activation('gate_proj'))"
   ]
  },
  {
   "cell_type": "code",
   "execution_count": null,
   "metadata": {},
   "outputs": [
    {
     "name": "stderr",
     "output_type": "stream",
     "text": [
      "Starting from v4.46, the `logits` model output will have the same type as the model (except at train time, where it will always be FP32)\n"
     ]
    }
   ],
   "source": [
    "text = \"The quick brown fox jumps over the lazy dog\"\n",
    "input_ids = tokenizer.encode(text, return_tensors=\"pt\")\n",
    "output = model(input_ids)\n",
    "handler1.remove()\n",
    "handler2.remove()"
   ]
  },
  {
   "cell_type": "code",
   "execution_count": null,
   "metadata": {},
   "outputs": [
    {
     "data": {
      "text/plain": [
       "(torch.Size([1, 10]), torch.Size([1, 10, 2048]), torch.Size([1, 10, 8192]))"
      ]
     },
     "execution_count": 6,
     "metadata": {},
     "output_type": "execute_result"
    }
   ],
   "source": [
    "input_ids.shape, activation['self_attn'].shape, activation['gate_proj'].shape"
   ]
  },
  {
   "cell_type": "code",
   "execution_count": null,
   "metadata": {},
   "outputs": [],
   "source": [
    "neurons = mlp.act_fn(activation['gate_proj'][0, -1])"
   ]
  },
  {
   "cell_type": "code",
   "execution_count": null,
   "metadata": {},
   "outputs": [
    {
     "data": {
      "text/plain": [
       "(tensor(6.7227, dtype=torch.float16),\n",
       " tensor(-0.2786, dtype=torch.float16),\n",
       " tensor(0.0792, dtype=torch.float16),\n",
       " tensor(0.3706, dtype=torch.float16))"
      ]
     },
     "execution_count": 8,
     "metadata": {},
     "output_type": "execute_result"
    }
   ],
   "source": [
    "neurons.max(), neurons.min(), neurons.mean(), neurons.std()"
   ]
  },
  {
   "cell_type": "code",
   "execution_count": null,
   "metadata": {},
   "outputs": [],
   "source": [
    "import matplotlib.pyplot as plt"
   ]
  },
  {
   "cell_type": "code",
   "execution_count": null,
   "metadata": {},
   "outputs": [
    {
     "data": {
      "image/png": "[encoded data removed]",
      "text/plain": [
       "<Figure size 640x480 with 1 Axes>"
      ]
     },
     "metadata": {},
     "output_type": "display_data"
    }
   ],
   "source": [
    "plt.hist(neurons.numpy(), bins=50)\n",
    "plt.show()"
   ]
  },
  {
   "cell_type": "code",
   "execution_count": null,
   "metadata": {},
   "outputs": [
    {
     "data": {
      "text/plain": [
       "tensor([-0.0828,  0.3142,  0.0468,  ...,  0.1896,  0.0750,  0.0922],\n",
       "       dtype=torch.float16)"
      ]
     },
     "execution_count": 13,
     "metadata": {},
     "output_type": "execute_result"
    }
   ],
   "source": [
    "neurons"
   ]
  },
  {
   "cell_type": "code",
   "execution_count": null,
   "metadata": {},
   "outputs": [
    {
     "data": {
      "text/plain": [
       "(tensor([  41,  100,  287,  396,  402,  576,  640,  840,  870,  936, 1070, 1071,\n",
       "         1143, 1210, 1327, 1346, 1401, 1546, 1579, 1619, 1787, 1788, 1879, 1949,\n",
       "         2027, 2059, 2072, 2260, 2307, 2545, 2548, 2627, 2636, 2773, 2785, 2859,\n",
       "         2999, 3106, 3307, 3316, 3449, 3497, 3675, 3879, 4407, 4549, 4587, 4758,\n",
       "         4775, 4807, 4811, 4817, 4870, 4909, 5394, 5450, 5621, 5782, 5792, 5881,\n",
       "         5924, 6036, 6278, 6283, 6364, 6517, 6747, 6805, 6813, 6853, 6888, 7006,\n",
       "         7358, 7375, 7598, 7670, 7728, 7811, 7874, 7996, 8092, 8120]),)"
      ]
     },
     "execution_count": 26,
     "metadata": {},
     "output_type": "execute_result"
    }
   ],
   "source": [
    "thres = neurons.float().quantile(0.99)\n",
    "torch.where(neurons > thres)"
   ]
  },
  {
   "cell_type": "code",
   "execution_count": null,
   "metadata": {},
   "outputs": [
    {
     "data": {
      "text/plain": [
       "tensor(1.1087)"
      ]
     },
     "execution_count": 24,
     "metadata": {},
     "output_type": "execute_result"
    }
   ],
   "source": [
    "thres"
   ]
  },
  {
   "cell_type": "code",
   "execution_count": null,
   "metadata": {},
   "outputs": [],
   "source": []
  },
  {
   "cell_type": "code",
   "execution_count": null,
   "metadata": {},
   "outputs": [],
   "source": []
  },
  {
   "cell_type": "code",
   "execution_count": null,
   "metadata": {},
   "outputs": [],
   "source": []
  },
  {
   "cell_type": "code",
   "execution_count": null,
   "metadata": {},
   "outputs": [],
   "source": []
  }
 ],
 "metadata": {
  "kernelspec": {
   "display_name": "base",
   "language": "python",
   "name": "python3"
  },
  "language_info": {
   "codemirror_mode": {
    "name": "ipython",
    "version": 3
   },
   "file_extension": ".py",
   "mimetype": "text/x-python",
   "name": "python",
   "nbconvert_exporter": "python",
   "pygments_lexer": "ipython3",
   "version": "3.12.6"
  }
 },
 "nbformat": 4,
 "nbformat_minor": 2
}
