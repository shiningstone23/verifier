{
 "cells": [
  {
   "cell_type": "markdown",
   "metadata": {},
   "source": [
    "# Data check"
   ]
  },
  {
   "cell_type": "code",
   "execution_count": 20,
   "metadata": {},
   "outputs": [],
   "source": [
    "from datasets import load_dataset\n",
    "from transformers import AutoTokenizer\n",
    "import numpy as np"
   ]
  },
  {
   "cell_type": "code",
   "execution_count": 3,
   "metadata": {},
   "outputs": [],
   "source": [
    "dataset = load_dataset(\"openai/gsm8k\", \"main\")"
   ]
  },
  {
   "cell_type": "code",
   "execution_count": 6,
   "metadata": {},
   "outputs": [],
   "source": [
    "tokenizer = AutoTokenizer.from_pretrained(\"meta-llama/Llama-3.2-1B\")"
   ]
  },
  {
   "cell_type": "code",
   "execution_count": 28,
   "metadata": {},
   "outputs": [
    {
     "data": {
      "text/plain": [
       "(array([ 12,  18,  19, ..., 183, 184, 210]),\n",
       " array([ 23,  23,  23, ..., 319, 333, 362]))"
      ]
     },
     "execution_count": 28,
     "metadata": {},
     "output_type": "execute_result"
    }
   ],
   "source": [
    "# Train set\n",
    "q_tokens = tokenizer.batch_encode_plus(dataset[\"train\"][\"question\"])\n",
    "a_tokens = tokenizer.batch_encode_plus(dataset[\"train\"][\"answer\"])\n",
    "\n",
    "n_tokens = {\n",
    "    \"n_q_tokens\": [],\n",
    "    \"n_a_tokens\": [],\n",
    "}\n",
    "for q, a in zip(q_tokens[\"input_ids\"], a_tokens[\"input_ids\"]):\n",
    "    n_tokens[\"n_q_tokens\"].append(len(q))\n",
    "    n_tokens[\"n_a_tokens\"].append(len(a))\n",
    "\n",
    "n_q_tokens = np.array(n_tokens[\"n_q_tokens\"])\n",
    "n_q_tokens.sort()\n",
    "n_a_tokens = np.array(n_tokens[\"n_a_tokens\"])\n",
    "n_a_tokens.sort()\n",
    "\n",
    "n_q_tokens, n_a_tokens"
   ]
  },
  {
   "cell_type": "code",
   "execution_count": 27,
   "metadata": {},
   "outputs": [
    {
     "data": {
      "text/plain": [
       "(array([ 23,  24,  24, ..., 157, 163, 186]),\n",
       " array([ 23,  30,  32, ..., 277, 290, 311]))"
      ]
     },
     "execution_count": 27,
     "metadata": {},
     "output_type": "execute_result"
    }
   ],
   "source": [
    "# Test set\n",
    "q_tokens = tokenizer.batch_encode_plus(dataset[\"test\"][\"question\"])\n",
    "a_tokens = tokenizer.batch_encode_plus(dataset[\"test\"][\"answer\"])\n",
    "\n",
    "n_tokens = {\n",
    "    \"n_q_tokens\": [],\n",
    "    \"n_a_tokens\": [],\n",
    "}\n",
    "for q, a in zip(q_tokens[\"input_ids\"], a_tokens[\"input_ids\"]):\n",
    "    n_tokens[\"n_q_tokens\"].append(len(q))\n",
    "    n_tokens[\"n_a_tokens\"].append(len(a))\n",
    "\n",
    "n_q_tokens = np.array(n_tokens[\"n_q_tokens\"])\n",
    "n_q_tokens.sort()\n",
    "n_a_tokens = np.array(n_tokens[\"n_a_tokens\"])\n",
    "n_a_tokens.sort()\n",
    "\n",
    "n_q_tokens, n_a_tokens"
   ]
  },
  {
   "cell_type": "code",
   "execution_count": null,
   "metadata": {},
   "outputs": [],
   "source": []
  },
  {
   "cell_type": "code",
   "execution_count": null,
   "metadata": {},
   "outputs": [],
   "source": []
  }
 ],
 "metadata": {
  "kernelspec": {
   "display_name": "base",
   "language": "python",
   "name": "python3"
  },
  "language_info": {
   "codemirror_mode": {
    "name": "ipython",
    "version": 3
   },
   "file_extension": ".py",
   "mimetype": "text/x-python",
   "name": "python",
   "nbconvert_exporter": "python",
   "pygments_lexer": "ipython3",
   "version": "3.12.6"
  }
 },
 "nbformat": 4,
 "nbformat_minor": 2
}
