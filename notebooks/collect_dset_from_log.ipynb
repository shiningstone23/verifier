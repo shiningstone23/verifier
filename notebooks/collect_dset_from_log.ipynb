{
 "cells": [
  {
   "cell_type": "markdown",
   "metadata": {},
   "source": [
    "# Log에서 Dataset 모으기"
   ]
  },
  {
   "cell_type": "code",
   "execution_count": 2,
   "metadata": {},
   "outputs": [],
   "source": [
    "import os; os.chdir(\"../\")\n",
    "import sys; sys.path.append('scripts')"
   ]
  },
  {
   "cell_type": "code",
   "execution_count": 3,
   "metadata": {},
   "outputs": [],
   "source": [
    "import re\n",
    "from datetime import datetime\n",
    "import json"
   ]
  },
  {
   "cell_type": "code",
   "execution_count": 4,
   "metadata": {},
   "outputs": [],
   "source": [
    "def parse_log(file_path, start_time_str):\n",
    "    start_time = datetime.strptime(start_time_str, \"%Y-%m-%d %H:%M:%S\")\n",
    "    results = []\n",
    "\n",
    "    with open(file_path, \"r\") as log_file:\n",
    "        lines = log_file.readlines()\n",
    "\n",
    "    parsing = False\n",
    "    current_entry = {}\n",
    "\n",
    "    for line in lines:\n",
    "        # Check if we should start parsing after the specific time\n",
    "        match_time = re.match(r\"\\[(.*?)\\]\", line)\n",
    "        if match_time:\n",
    "            log_time = datetime.strptime(match_time.group(1), \"%Y-%m-%d %H:%M:%S,%f\")\n",
    "            if log_time >= start_time and \"Starting Evaluate script\" in line:\n",
    "                parsing = True\n",
    "\n",
    "\n",
    "        if not parsing:\n",
    "            continue\n",
    "\n",
    "        # Parse Question\n",
    "        elif \"[INFO] - Question:\" in line:\n",
    "            question_match = re.search(r\"Question: (.*)\", line)\n",
    "            if question_match:\n",
    "                current_entry[\"Question\"] = eval(question_match.group(1))  # Safely parse list\n",
    "\n",
    "        # Parse Prediction\n",
    "        elif \"[INFO] - Prediction:\" in line and \"INFO\" in line:\n",
    "            prediction_match = re.search(r\"Prediction: (.*)\", line)\n",
    "            if prediction_match:\n",
    "                current_entry[\"Prediction\"] = eval(prediction_match.group(1))  # Safely parse list\n",
    "\n",
    "        # Parse Answer\n",
    "        elif \"[INFO] - Answer:\" in line:\n",
    "            answer_match = re.search(r\"Answer: (.*)\", line)\n",
    "            if answer_match:\n",
    "                current_entry[\"Answer\"] = eval(answer_match.group(1))  # Safely parse list\n",
    "\n",
    "        # If all fields are collected, save the entry and reset\n",
    "        if all(key in current_entry for key in [\"Question\", \"Prediction\", \"Answer\"]):\n",
    "            results.append(current_entry)\n",
    "            current_entry = {}\n",
    "\n",
    "    return results"
   ]
  },
  {
   "cell_type": "code",
   "execution_count": 4,
   "metadata": {},
   "outputs": [
    {
     "name": "stdout",
     "output_type": "stream",
     "text": [
      "Parsing from logs/eval-star-1b.log after 2024-12-12 00:02:18\n",
      "Parsed data saved to data/multi_samples_star-1b.json\n",
      "Number of samples: 298\n"
     ]
    }
   ],
   "source": [
    "log_path = \"logs/eval-star-1b.log\"\n",
    "start_time = \"2024-12-12 00:02:18\"\n",
    "parsed_data = parse_log(log_path, start_time)\n",
    "\n",
    "with open(\"data/multi_samples_star-1b.json\", \"w\") as f:\n",
    "    json.dump(parsed_data, f)\n",
    "\n",
    "print(f\"Parsing from {log_path} after {start_time}\")\n",
    "print(\"Parsed data saved to data/multi_samples_star-1b.json\")\n",
    "print(f\"Number of samples: {len(parsed_data)}\")"
   ]
  },
  {
   "cell_type": "code",
   "execution_count": 5,
   "metadata": {},
   "outputs": [
    {
     "name": "stdout",
     "output_type": "stream",
     "text": [
      "Parsing from logs/eval-star-8b.log after 2024-12-12 00:00:49\n",
      "Parsed data saved to data/multi_samples_star-1b.json\n",
      "Number of samples: 274\n"
     ]
    }
   ],
   "source": [
    "log_path = \"logs/eval-star-8b.log\"\n",
    "start_time = \"2024-12-12 00:00:49\"\n",
    "parsed_data = parse_log(log_path, start_time)\n",
    "\n",
    "with open(\"data/multi_samples_star-8b.json\", \"w\") as f:\n",
    "    json.dump(parsed_data, f)\n",
    "\n",
    "print(f\"Parsing from {log_path} after {start_time}\")\n",
    "print(\"Parsed data saved to data/multi_samples_star-1b.json\")\n",
    "print(f\"Number of samples: {len(parsed_data)}\")\n",
    "# parsed_data[0]"
   ]
  },
  {
   "cell_type": "code",
   "execution_count": 7,
   "metadata": {},
   "outputs": [
    {
     "name": "stdout",
     "output_type": "stream",
     "text": [
      "Parsing from logs/test_verifier.log after 2024-12-09 23:21:33\n",
      "Parsed data saved to data/multi_samples-1b.json\n",
      "Number of samples: 437\n"
     ]
    }
   ],
   "source": [
    "log_path = \"logs/test_verifier.log\"\n",
    "start_time = \"2024-12-09 23:21:33\"\n",
    "save_name = \"multi_samples-1b\"\n",
    "parsed_data = parse_log(log_path, start_time)\n",
    "\n",
    "with open(f\"data/{save_name}.json\", \"w\") as f:\n",
    "    json.dump(parsed_data, f)\n",
    "\n",
    "print(f\"Parsing from {log_path} after {start_time}\")\n",
    "print(f\"Parsed data saved to data/{save_name}.json\")\n",
    "print(f\"Number of samples: {len(parsed_data)}\")"
   ]
  },
  {
   "cell_type": "code",
   "execution_count": 6,
   "metadata": {},
   "outputs": [
    {
     "name": "stdout",
     "output_type": "stream",
     "text": [
      "Parsing from logs/test_verifier-8b.log after 2024-12-11 14:25:34\n",
      "Parsed data saved to data/multi_samples-8b.json\n",
      "Number of samples: 1086\n"
     ]
    }
   ],
   "source": [
    "log_path = \"logs/test_verifier-8b.log\"\n",
    "start_time = \"2024-12-11 14:25:34\"\n",
    "save_name = \"multi_samples-8b\"\n",
    "parsed_data = parse_log(log_path, start_time)\n",
    "\n",
    "with open(f\"data/{save_name}.json\", \"w\") as f:\n",
    "    json.dump(parsed_data, f)\n",
    "\n",
    "print(f\"Parsing from {log_path} after {start_time}\")\n",
    "print(f\"Parsed data saved to data/{save_name}.json\")\n",
    "print(f\"Number of samples: {len(parsed_data)}\")"
   ]
  },
  {
   "cell_type": "code",
   "execution_count": null,
   "metadata": {},
   "outputs": [],
   "source": []
  }
 ],
 "metadata": {
  "kernelspec": {
   "display_name": "base",
   "language": "python",
   "name": "python3"
  },
  "language_info": {
   "codemirror_mode": {
    "name": "ipython",
    "version": 3
   },
   "file_extension": ".py",
   "mimetype": "text/x-python",
   "name": "python",
   "nbconvert_exporter": "python",
   "pygments_lexer": "ipython3",
   "version": "3.12.6"
  }
 },
 "nbformat": 4,
 "nbformat_minor": 2
}
